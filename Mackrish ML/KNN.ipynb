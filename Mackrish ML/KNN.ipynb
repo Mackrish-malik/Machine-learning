{
 "cells": [
  {
   "cell_type": "code",
   "execution_count": 7,
   "id": "4b0b7b96-aa56-44c5-8399-9f554e7a2e89",
   "metadata": {},
   "outputs": [
    {
     "name": "stdout",
     "output_type": "stream",
     "text": [
      "Output1\n",
      "Predicted class: 0\n",
      "Output2\n",
      "Test point [4, 4] is predicted to be in class: 0\n",
      "Test point [5, 5] is predicted to be in class: 1\n",
      "Test point [7, 3] is predicted to be in class: 1\n",
      "Test point [3, 7] is predicted to be in class: 0\n"
     ]
    }
   ],
   "source": [
    "import numpy as np\n",
    "from collections import Counter\n",
    "\n",
    "class KNN:\n",
    "    def __init__(self, k=3):\n",
    "        self.k = k\n",
    "\n",
    "    def fit(self, X_train, y_train):\n",
    "        self.X_train = np.array(X_train)\n",
    "        self.y_train = np.array(y_train)\n",
    "\n",
    "    def predict(self, X_test):\n",
    "        X_test = np.array(X_test)\n",
    "        predictions = [self._predict(x) for x in X_test]\n",
    "        return np.array(predictions)\n",
    "\n",
    "    def _predict(self, x):\n",
    "        # Compute the Euclidean distances between x and all training samples\n",
    "        distances = [np.linalg.norm(x - x_train) for x_train in self.X_train]\n",
    "        # Get the indices of the k-nearest neighbors\n",
    "        k_indices = np.argsort(distances)[:self.k]\n",
    "        # Get the labels of the k-nearest neighbors\n",
    "        k_nearest_labels = [self.y_train[i] for i in k_indices]\n",
    "        # Return the most common class label\n",
    "        most_common = Counter(k_nearest_labels).most_common(1)\n",
    "        return most_common[0][0]\n",
    "\n",
    "# Example usage\n",
    "print(\"Output1\")\n",
    "if __name__ == \"__main__\":\n",
    "    # Example dataset\n",
    "    X_train = [[1, 2], [2, 3], [3, 4], [6, 7], [7, 8], [8, 9]]\n",
    "    y_train = [0, 0, 0, 1, 1, 1]\n",
    "    X_test = [[5, 5]]\n",
    "\n",
    "    # Create a KNN classifier with k=3\n",
    "    knn = KNN(k=3)\n",
    "    knn.fit(X_train, y_train)\n",
    "\n",
    "    # Predict the class of the test sample\n",
    "    prediction = knn.predict(X_test)\n",
    "    print(f\"Predicted class: {prediction[0]}\")\n",
    "\n",
    "\n",
    "\n",
    "# Example dataset\n",
    "print(\"Output2\")\n",
    "X_train = [[1, 2], [2, 1], [3, 3], [6, 7], [7, 8], [8, 8], [1, 7], [2, 8], [7, 1]]\n",
    "y_train = [0, 0, 0, 1, 1, 1, 0, 0, 1]\n",
    "X_test = [[4, 4], [5, 5], [7, 3], [3, 7]]\n",
    "\n",
    "# Create a KNN classifier with k=3\n",
    "knn = KNN(k=3)\n",
    "knn.fit(X_train, y_train)\n",
    "\n",
    "# Predict the class of the test samples\n",
    "predictions = knn.predict(X_test)\n",
    "for i, test_point in enumerate(X_test):\n",
    "    print(f\"Test point {test_point} is predicted to be in class: {predictions[i]}\")\n",
    "\n",
    "\n",
    "\n",
    "\n",
    "\n"
   ]
  },
  {
   "cell_type": "code",
   "execution_count": null,
   "id": "60b3ccd0-2db0-4393-aa31-5ab8cf5a3f00",
   "metadata": {},
   "outputs": [],
   "source": []
  }
 ],
 "metadata": {
  "kernelspec": {
   "display_name": "Python 3 (ipykernel)",
   "language": "python",
   "name": "python3"
  },
  "language_info": {
   "codemirror_mode": {
    "name": "ipython",
    "version": 3
   },
   "file_extension": ".py",
   "mimetype": "text/x-python",
   "name": "python",
   "nbconvert_exporter": "python",
   "pygments_lexer": "ipython3",
   "version": "3.12.4"
  }
 },
 "nbformat": 4,
 "nbformat_minor": 5
}
